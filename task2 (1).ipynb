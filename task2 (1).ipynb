{
  "nbformat": 4,
  "nbformat_minor": 0,
  "metadata": {
    "colab": {
      "name": "task2.ipynb",
      "provenance": [],
      "collapsed_sections": [
        "uWcwkpODaDSu"
      ]
    },
    "kernelspec": {
      "name": "python3",
      "display_name": "Python 3"
    }
  },
  "cells": [
    {
      "cell_type": "markdown",
      "metadata": {
        "id": "uWcwkpODaDSu"
      },
      "source": [
        "\r\n",
        "\r\n",
        "\r\n",
        "# **Intern Name : Muskaan Shakil Shaikh**\r\n",
        "The Sparks Foundation"
      ]
    },
    {
      "cell_type": "markdown",
      "metadata": {
        "id": "WmokcIt5ahyb"
      },
      "source": [
        "**Task 2 : Prediction Using UnSupervised ML**\r\n"
      ]
    },
    {
      "cell_type": "markdown",
      "metadata": {
        "id": "zEZtfuGmavFa"
      },
      "source": [
        "**Data Source** : https://bit.ly/3kXTdox"
      ]
    },
    {
      "cell_type": "markdown",
      "metadata": {
        "id": "lQa8b7z4b8Ja"
      },
      "source": [
        "\r\n",
        "**Problem statement :From the given ‘Iris’ dataset, predict the optimum number of clusters\r\n",
        "and represent it visually.**"
      ]
    },
    {
      "cell_type": "markdown",
      "metadata": {
        "id": "ohOO8RqkcpS_"
      },
      "source": [
        "*Step1: Importing libraries we require using **import** keyword* "
      ]
    },
    {
      "cell_type": "code",
      "metadata": {
        "id": "cACmkRiqcqlC"
      },
      "source": [
        "\r\n",
        "import pandas as pd\r\n",
        "import matplotlib.pyplot as plt\r\n",
        "%matplotlib inline\r\n",
        "import seaborn as sns\r\n",
        "from sklearn import datasets\r\n",
        "from sklearn.cluster import KMeans"
      ],
      "execution_count": 1,
      "outputs": []
    },
    {
      "cell_type": "markdown",
      "metadata": {
        "id": "qU_gI-Wfc1Ba"
      },
      "source": [
        "*Numpy library is used for working with array. Pandas library is used for cleaning and analysis purpose. matplotlib.pyplot is for data visualization in 2D in python.*"
      ]
    },
    {
      "cell_type": "markdown",
      "metadata": {
        "id": "K6WZWBeFc70n"
      },
      "source": [
        "*Step 2: Importing the dataset*\r\n"
      ]
    },
    {
      "cell_type": "code",
      "metadata": {
        "colab": {
          "base_uri": "https://localhost:8080/",
          "height": 197
        },
        "id": "RdPrid0lc23r",
        "outputId": "59a74d83-1318-439a-f24b-32de8f4d496e"
      },
      "source": [
        "\r\n",
        "iris = datasets.load_globalterrorism()\r\n",
        "#iris_df.head() # See the first 5 rows"
      ],
      "execution_count": 2,
      "outputs": [
        {
          "output_type": "error",
          "ename": "AttributeError",
          "evalue": "ignored",
          "traceback": [
            "\u001b[0;31m---------------------------------------------------------------------------\u001b[0m",
            "\u001b[0;31mAttributeError\u001b[0m                            Traceback (most recent call last)",
            "\u001b[0;32m<ipython-input-2-0af83d374a40>\u001b[0m in \u001b[0;36m<module>\u001b[0;34m()\u001b[0m\n\u001b[1;32m      1\u001b[0m \u001b[0;34m\u001b[0m\u001b[0m\n\u001b[0;32m----> 2\u001b[0;31m \u001b[0miris\u001b[0m \u001b[0;34m=\u001b[0m \u001b[0mdatasets\u001b[0m\u001b[0;34m.\u001b[0m\u001b[0mload_globalterrorism\u001b[0m\u001b[0;34m(\u001b[0m\u001b[0;34m)\u001b[0m\u001b[0;34m\u001b[0m\u001b[0;34m\u001b[0m\u001b[0m\n\u001b[0m\u001b[1;32m      3\u001b[0m \u001b[0;31m#iris_df.head() # See the first 5 rows\u001b[0m\u001b[0;34m\u001b[0m\u001b[0;34m\u001b[0m\u001b[0;34m\u001b[0m\u001b[0m\n",
            "\u001b[0;31mAttributeError\u001b[0m: module 'sklearn.datasets' has no attribute 'load_globalterrorism'"
          ]
        }
      ]
    },
    {
      "cell_type": "markdown",
      "metadata": {
        "id": "be_JcW7deLL3"
      },
      "source": [
        "*Step 3: To check if their are any null values.*"
      ]
    },
    {
      "cell_type": "code",
      "metadata": {
        "id": "GkPVlRYHeT6j"
      },
      "source": [
        "iris_df.info()\r\n",
        "iris_df.isnull().sum()\r\n",
        "\r\n"
      ],
      "execution_count": null,
      "outputs": []
    },
    {
      "cell_type": "markdown",
      "metadata": {
        "id": "u1IUw8Vjf38Z"
      },
      "source": [
        "*Step 4: Checking the dataset*"
      ]
    },
    {
      "cell_type": "code",
      "metadata": {
        "id": "-rfPzhnFgBCL"
      },
      "source": [
        "iris_df.shape"
      ],
      "execution_count": null,
      "outputs": []
    },
    {
      "cell_type": "code",
      "metadata": {
        "id": "z4B5g_3qgcsk"
      },
      "source": [
        "iris_df.describe()"
      ],
      "execution_count": null,
      "outputs": []
    },
    {
      "cell_type": "markdown",
      "metadata": {
        "id": "XFhKyCfSgAhF"
      },
      "source": [
        "*Step 5:Visualize the data*"
      ]
    },
    {
      "cell_type": "code",
      "metadata": {
        "id": "OvuCopeF32NR"
      },
      "source": [
        "sns.pairplot(iris_df)"
      ],
      "execution_count": null,
      "outputs": []
    },
    {
      "cell_type": "markdown",
      "metadata": {
        "id": "A3-uAn-O4YwE"
      },
      "source": [
        "\r\n",
        "*Step 6 : Finding the optimum number of clusters for k-means classification*"
      ]
    },
    {
      "cell_type": "code",
      "metadata": {
        "id": "raCkFm5q4eKX"
      },
      "source": [
        "wcss=[]\r\n",
        "x=iris_df\r\n",
        "for i in range(1,10):\r\n",
        "    #k-means++ selects initial cluster centers for k-mean clustering in a smart way to speed up convergence. \r\n",
        "    kmeans=KMeans(n_clusters=i,init='k-means++',random_state=0)\r\n",
        "    #To train our model , we use kmeans.fit() here x is the dataset that has to be clustered\r\n",
        "    kmeans.fit(x)\r\n",
        "    #kmeans inertia_ attribute is Sum of squared distances of samples to their closest cluster center.\r\n",
        "    wcss.append(kmeans.inertia_)\r\n"
      ],
      "execution_count": null,
      "outputs": []
    },
    {
      "cell_type": "markdown",
      "metadata": {
        "id": "tBf6jIuH4mvM"
      },
      "source": [
        "\r\n",
        "*Step 7 :Use Elbow method to determine the optimal number of clusters*\r\n",
        "\r\n"
      ]
    },
    {
      "cell_type": "markdown",
      "metadata": {
        "id": "hL6pbeiw4tJK"
      },
      "source": [
        "Elbow method consists of plotting the explained variation as a function of the number of clusters, and picking the elbow of the curve as the number of clusters to use.\r\n",
        "\r\n"
      ]
    },
    {
      "cell_type": "code",
      "metadata": {
        "id": "elSPZ2iv4rNB"
      },
      "source": [
        "plt.plot(range(1,10),wcss,'o-')\r\n",
        "plt.xlabel('Number of Clusters')\r\n",
        "plt.ylabel('Within Cluster Sum of Squares')\r\n",
        "plt.title('The Elbow Method')"
      ],
      "execution_count": null,
      "outputs": []
    },
    {
      "cell_type": "markdown",
      "metadata": {
        "id": "ggz4D-MG41eM"
      },
      "source": [
        "\r\n",
        "***The optimal number of clusters is 3.***\r\n"
      ]
    },
    {
      "cell_type": "markdown",
      "metadata": {
        "id": "PclT05uI46-T"
      },
      "source": [
        "\r\n",
        "# ***Step 8 :Apply KMeans to the dataset***"
      ]
    },
    {
      "cell_type": "code",
      "metadata": {
        "id": "-GnNtjVQ5Hdd"
      },
      "source": [
        "kmeans = KMeans(n_clusters = 3, init = 'k-means++',max_iter = 300, n_init = 10, random_state = 0)\r\n",
        "#fit_predict method returns each observation which cluster it belongs to.\r\n",
        "#The cluster to which client belongs and it will return this cluster numbers into a single vector that is  called y K-means\r\n",
        "y_kmeans = kmeans.fit_predict(x)"
      ],
      "execution_count": null,
      "outputs": []
    },
    {
      "cell_type": "code",
      "metadata": {
        "colab": {
          "base_uri": "https://localhost:8080/"
        },
        "id": "GV0Nf0DG5Mxv",
        "outputId": "6ed2dc42-9a79-4f8f-d301-203eb7b4cfa5"
      },
      "source": [
        "centers = kmeans.cluster_centers_\r\n",
        "print(centers)\r\n"
      ],
      "execution_count": null,
      "outputs": [
        {
          "output_type": "stream",
          "text": [
            "[[6.85       3.07368421 5.74210526 2.07105263]\n",
            " [5.006      3.428      1.462      0.246     ]\n",
            " [5.9016129  2.7483871  4.39354839 1.43387097]]\n"
          ],
          "name": "stdout"
        }
      ]
    },
    {
      "cell_type": "markdown",
      "metadata": {
        "id": "LxpuzLC35D4f"
      },
      "source": [
        "The above array represents the center of 3 clusters\r\n",
        "\r\n"
      ]
    },
    {
      "cell_type": "markdown",
      "metadata": {
        "id": "Adb3tD146UmV"
      },
      "source": [
        "\r\n",
        "*Visualising the clusters*"
      ]
    },
    {
      "cell_type": "code",
      "metadata": {
        "colab": {
          "base_uri": "https://localhost:8080/",
          "height": 492
        },
        "id": "2gTVOjb45RqG",
        "outputId": "dd32e485-a37d-44b9-af78-4af0a942dbfa"
      },
      "source": [
        "plt.figure(figsize = (10,6))\r\n",
        "plt.scatter(x['sepal length (cm)'],x['sepal width (cm)'],c=y_kmeans,cmap='rainbow')\r\n",
        "plt.scatter(centers[:,0],centers[:,1],c='yellow',s=50,label='Centeroids')\r\n",
        "plt.title(\"sepal length (cm) Vs sepal width (cm)\t\")\r\n",
        "plt.xlabel(\"Sepal Length\")\r\n",
        "plt.ylabel(\"Sepal Width\")\r\n",
        "plt.legend()"
      ],
      "execution_count": null,
      "outputs": [
        {
          "output_type": "execute_result",
          "data": {
            "text/plain": [
              "<matplotlib.legend.Legend at 0x7f859e9f3668>"
            ]
          },
          "metadata": {
            "tags": []
          },
          "execution_count": 16
        },
        {
          "output_type": "stream",
          "text": [
            "/usr/local/lib/python3.6/dist-packages/matplotlib/backends/backend_agg.py:214: RuntimeWarning: Glyph 9 missing from current font.\n",
            "  font.set_text(s, 0.0, flags=flags)\n",
            "/usr/local/lib/python3.6/dist-packages/matplotlib/backends/backend_agg.py:183: RuntimeWarning: Glyph 9 missing from current font.\n",
            "  font.set_text(s, 0, flags=flags)\n"
          ],
          "name": "stderr"
        },
        {
          "output_type": "display_data",
          "data": {
            "image/png": "[encoded data removed]",
            "text/plain": [
              "<Figure size 720x432 with 1 Axes>"
            ]
          },
          "metadata": {
            "tags": [],
            "needs_background": "light"
          }
        }
      ]
    }
  ]
}