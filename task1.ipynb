{
  "nbformat": 4,
  "nbformat_minor": 0,
  "metadata": {
    "colab": {
      "name": "task1.ipynb",
      "provenance": [],
      "collapsed_sections": []
    },
    "kernelspec": {
      "name": "python3",
      "display_name": "Python 3"
    }
  },
  "cells": [
    {
      "cell_type": "markdown",
      "metadata": {
        "id": "BVZDp70S0EBC"
      },
      "source": [
        "# **Intern Name - Muskaan Shakil Shaikh**\r\n",
        "The Sparks Foundation\r\n",
        "\r\n",
        "\r\n"
      ]
    },
    {
      "cell_type": "markdown",
      "metadata": {
        "id": "UYmsLnLZ0S3z"
      },
      "source": [
        "**Task 1 : Prediction Using Supervised ML**\r\n",
        "\r\n",
        "\r\n"
      ]
    },
    {
      "cell_type": "markdown",
      "metadata": {
        "id": "mMWyN-nD0cce"
      },
      "source": [
        "**Data Source**: http://bit.ly/w-data"
      ]
    },
    {
      "cell_type": "markdown",
      "metadata": {
        "id": "NOiAWYfW0hed"
      },
      "source": [
        "**Problem Statement : To predict the percentage of a student based on the number of study hours**"
      ]
    },
    {
      "cell_type": "markdown",
      "metadata": {
        "id": "hN2mJs9Q0qqg"
      },
      "source": [
        "**Step1: Importing libraries we require using import keyword**"
      ]
    },
    {
      "cell_type": "code",
      "metadata": {
        "colab": {
          "base_uri": "https://localhost:8080/"
        },
        "id": "wTQWR9gjlhLa",
        "outputId": "bd127995-00b0-499c-e3b9-cb362bca01d9"
      },
      "source": [
        "import numpy as np\r\n",
        "import matplotlib.pyplot as plt\r\n",
        "import pandas as pd\r\n",
        "%matplotlib inline\r\n",
        "print(\"Installed properly\")"
      ],
      "execution_count": null,
      "outputs": [
        {
          "output_type": "stream",
          "text": [
            "Installed properly\n"
          ],
          "name": "stdout"
        }
      ]
    },
    {
      "cell_type": "markdown",
      "metadata": {
        "id": "xfTvgLzBlttf"
      },
      "source": [
        "Numpy library is used for working with array. Pandas library is used for cleaning and analysis purpose. matplotlib.pyplot is for data visualization in 2D in python."
      ]
    },
    {
      "cell_type": "markdown",
      "metadata": {
        "id": "bn-dUIeEmspY"
      },
      "source": [
        "\r\n",
        "***Step 2: Importing the dataset***"
      ]
    },
    {
      "cell_type": "code",
      "metadata": {
        "colab": {
          "base_uri": "https://localhost:8080/",
          "height": 359
        },
        "id": "WMf0J-vKlkpc",
        "outputId": "1d959d7a-1ad7-4e3b-8f88-90b4b02e4573"
      },
      "source": [
        "url = 'http://bit.ly/w-data'\r\n",
        "dataset = pd.read_csv(url)\r\n",
        "dataset.head(10)"
      ],
      "execution_count": null,
      "outputs": [
        {
          "output_type": "execute_result",
          "data": {
            "text/html": [
              "<div>\n",
              "<style scoped>\n",
              "    .dataframe tbody tr th:only-of-type {\n",
              "        vertical-align: middle;\n",
              "    }\n",
              "\n",
              "    .dataframe tbody tr th {\n",
              "        vertical-align: top;\n",
              "    }\n",
              "\n",
              "    .dataframe thead th {\n",
              "        text-align: right;\n",
              "    }\n",
              "</style>\n",
              "<table border=\"1\" class=\"dataframe\">\n",
              "  <thead>\n",
              "    <tr style=\"text-align: right;\">\n",
              "      <th></th>\n",
              "      <th>Hours</th>\n",
              "      <th>Scores</th>\n",
              "    </tr>\n",
              "  </thead>\n",
              "  <tbody>\n",
              "    <tr>\n",
              "      <th>0</th>\n",
              "      <td>2.5</td>\n",
              "      <td>21</td>\n",
              "    </tr>\n",
              "    <tr>\n",
              "      <th>1</th>\n",
              "      <td>5.1</td>\n",
              "      <td>47</td>\n",
              "    </tr>\n",
              "    <tr>\n",
              "      <th>2</th>\n",
              "      <td>3.2</td>\n",
              "      <td>27</td>\n",
              "    </tr>\n",
              "    <tr>\n",
              "      <th>3</th>\n",
              "      <td>8.5</td>\n",
              "      <td>75</td>\n",
              "    </tr>\n",
              "    <tr>\n",
              "      <th>4</th>\n",
              "      <td>3.5</td>\n",
              "      <td>30</td>\n",
              "    </tr>\n",
              "    <tr>\n",
              "      <th>5</th>\n",
              "      <td>1.5</td>\n",
              "      <td>20</td>\n",
              "    </tr>\n",
              "    <tr>\n",
              "      <th>6</th>\n",
              "      <td>9.2</td>\n",
              "      <td>88</td>\n",
              "    </tr>\n",
              "    <tr>\n",
              "      <th>7</th>\n",
              "      <td>5.5</td>\n",
              "      <td>60</td>\n",
              "    </tr>\n",
              "    <tr>\n",
              "      <th>8</th>\n",
              "      <td>8.3</td>\n",
              "      <td>81</td>\n",
              "    </tr>\n",
              "    <tr>\n",
              "      <th>9</th>\n",
              "      <td>2.7</td>\n",
              "      <td>25</td>\n",
              "    </tr>\n",
              "  </tbody>\n",
              "</table>\n",
              "</div>"
            ],
            "text/plain": [
              "   Hours  Scores\n",
              "0    2.5      21\n",
              "1    5.1      47\n",
              "2    3.2      27\n",
              "3    8.5      75\n",
              "4    3.5      30\n",
              "5    1.5      20\n",
              "6    9.2      88\n",
              "7    5.5      60\n",
              "8    8.3      81\n",
              "9    2.7      25"
            ]
          },
          "metadata": {
            "tags": []
          },
          "execution_count": 34
        }
      ]
    },
    {
      "cell_type": "markdown",
      "metadata": {
        "id": "Hkz3N322m9Gp"
      },
      "source": [
        "csv denotes \"comma separated values\". head(10) means the initial 10 values of dataset"
      ]
    },
    {
      "cell_type": "markdown",
      "metadata": {
        "id": "hUHVLIRPnNbY"
      },
      "source": [
        " **Step 3: Visualizing the data using scatter plot. Scatter is the built-in function present in matplotlib.****"
      ]
    },
    {
      "cell_type": "code",
      "metadata": {
        "colab": {
          "base_uri": "https://localhost:8080/",
          "height": 279
        },
        "id": "sJdP0lOznMLI",
        "outputId": "39878978-3f6f-4659-b843-ed5c0acaee52"
      },
      "source": [
        "plt.scatter(dataset['Hours'],dataset['Scores'],color=\"red\")\r\n",
        "plt.xlabel('Hours Studies')\r\n",
        "plt.ylabel('Marks Scored')\r\n",
        "plt.show()"
      ],
      "execution_count": null,
      "outputs": [
        {
          "output_type": "display_data",
          "data": {
            "image/png": "[encoded data removed]",
            "text/plain": [
              "<Figure size 432x288 with 1 Axes>"
            ]
          },
          "metadata": {
            "tags": [],
            "needs_background": "light"
          }
        }
      ]
    },
    {
      "cell_type": "markdown",
      "metadata": {
        "id": "IbFlUvJ9oRlU"
      },
      "source": [
        "From the graph we can see that number of hours studied is directly proportional to the marks scored as it is linear."
      ]
    },
    {
      "cell_type": "markdown",
      "metadata": {
        "id": "mUj_Hm9eoZak"
      },
      "source": [
        "*Step 4: Splitting the data into x and y*"
      ]
    },
    {
      "cell_type": "code",
      "metadata": {
        "id": "2m1rGIXKofwx"
      },
      "source": [
        "x = dataset.iloc[:,:-1].values\r\n",
        "y = dataset.iloc[:,-1].values"
      ],
      "execution_count": null,
      "outputs": []
    },
    {
      "cell_type": "markdown",
      "metadata": {
        "id": "-anNg4P-onKG"
      },
      "source": [
        "x stores values of all rows and all the columns except the last column .\r\n",
        "y stores values of all rows and only the last column.\r\n",
        "\r\n",
        "\r\n"
      ]
    },
    {
      "cell_type": "code",
      "metadata": {
        "colab": {
          "base_uri": "https://localhost:8080/"
        },
        "id": "hONmMBjZo6dt",
        "outputId": "2a0787a4-94a3-4aca-c78f-9b0569174031"
      },
      "source": [
        "x\r\n"
      ],
      "execution_count": null,
      "outputs": [
        {
          "output_type": "execute_result",
          "data": {
            "text/plain": [
              "array([[2.5],\n",
              "       [5.1],\n",
              "       [3.2],\n",
              "       [8.5],\n",
              "       [3.5],\n",
              "       [1.5],\n",
              "       [9.2],\n",
              "       [5.5],\n",
              "       [8.3],\n",
              "       [2.7],\n",
              "       [7.7],\n",
              "       [5.9],\n",
              "       [4.5],\n",
              "       [3.3],\n",
              "       [1.1],\n",
              "       [8.9],\n",
              "       [2.5],\n",
              "       [1.9],\n",
              "       [6.1],\n",
              "       [7.4],\n",
              "       [2.7],\n",
              "       [4.8],\n",
              "       [3.8],\n",
              "       [6.9],\n",
              "       [7.8]])"
            ]
          },
          "metadata": {
            "tags": []
          },
          "execution_count": 37
        }
      ]
    },
    {
      "cell_type": "code",
      "metadata": {
        "colab": {
          "base_uri": "https://localhost:8080/"
        },
        "id": "yacm4awTpmFU",
        "outputId": "07c47a1b-0a71-44f2-d726-110f8b894f4c"
      },
      "source": [
        "y"
      ],
      "execution_count": null,
      "outputs": [
        {
          "output_type": "execute_result",
          "data": {
            "text/plain": [
              "array([21, 47, 27, 75, 30, 20, 88, 60, 81, 25, 85, 62, 41, 42, 17, 95, 30,\n",
              "       24, 67, 69, 30, 54, 35, 76, 86])"
            ]
          },
          "metadata": {
            "tags": []
          },
          "execution_count": 38
        }
      ]
    },
    {
      "cell_type": "markdown",
      "metadata": {
        "id": "IczHulThpzHt"
      },
      "source": [
        "Step 5: ***Splitting the data into training set and testing set.***"
      ]
    },
    {
      "cell_type": "code",
      "metadata": {
        "id": "GlO-lnIuppH-"
      },
      "source": [
        "from sklearn.model_selection import train_test_split\r\n",
        "x_train,x_test,y_train,y_test=train_test_split(x,y,test_size=1/3,random_state=101)"
      ],
      "execution_count": null,
      "outputs": []
    },
    {
      "cell_type": "markdown",
      "metadata": {
        "id": "zsqNcBMAqEG7"
      },
      "source": [
        "Scikit-learn is probably the most useful library for machine learning in Python. The sklearn library contains a lot of efficient tools for machine learning and statistical modeling including classification, regression, clustering and dimensionality reduction."
      ]
    },
    {
      "cell_type": "code",
      "metadata": {
        "colab": {
          "base_uri": "https://localhost:8080/"
        },
        "id": "gsON2IK5qLK3",
        "outputId": "a093f420-ae92-4b70-92c6-6a258d503553"
      },
      "source": [
        "x_train"
      ],
      "execution_count": null,
      "outputs": [
        {
          "output_type": "execute_result",
          "data": {
            "text/plain": [
              "array([[1.1],\n",
              "       [6.1],\n",
              "       [2.5],\n",
              "       [4.5],\n",
              "       [1.5],\n",
              "       [6.9],\n",
              "       [2.7],\n",
              "       [3.5],\n",
              "       [8.3],\n",
              "       [3.3],\n",
              "       [2.7],\n",
              "       [8.9],\n",
              "       [7.8],\n",
              "       [9.2],\n",
              "       [1.9],\n",
              "       [5.9]])"
            ]
          },
          "metadata": {
            "tags": []
          },
          "execution_count": 40
        }
      ]
    },
    {
      "cell_type": "code",
      "metadata": {
        "colab": {
          "base_uri": "https://localhost:8080/"
        },
        "id": "B6zSokyrqPn6",
        "outputId": "13bfd98c-cc14-488f-866f-9729320241e9"
      },
      "source": [
        "x_test"
      ],
      "execution_count": null,
      "outputs": [
        {
          "output_type": "execute_result",
          "data": {
            "text/plain": [
              "array([[2.5],\n",
              "       [7.7],\n",
              "       [3.8],\n",
              "       [7.4],\n",
              "       [5.5],\n",
              "       [4.8],\n",
              "       [3.2],\n",
              "       [8.5],\n",
              "       [5.1]])"
            ]
          },
          "metadata": {
            "tags": []
          },
          "execution_count": 41
        }
      ]
    },
    {
      "cell_type": "code",
      "metadata": {
        "colab": {
          "base_uri": "https://localhost:8080/"
        },
        "id": "7_B1_DquqRzC",
        "outputId": "138da8c6-148f-4cd1-d1ef-418068f2d178"
      },
      "source": [
        "y_train"
      ],
      "execution_count": null,
      "outputs": [
        {
          "output_type": "execute_result",
          "data": {
            "text/plain": [
              "array([17, 67, 21, 41, 20, 76, 30, 30, 81, 42, 25, 95, 86, 88, 24, 62])"
            ]
          },
          "metadata": {
            "tags": []
          },
          "execution_count": 42
        }
      ]
    },
    {
      "cell_type": "code",
      "metadata": {
        "colab": {
          "base_uri": "https://localhost:8080/"
        },
        "id": "jYVTT9aYqUKo",
        "outputId": "eb1fb637-6a3c-4b5a-ae6b-f6098ac84c7c"
      },
      "source": [
        "y_test"
      ],
      "execution_count": null,
      "outputs": [
        {
          "output_type": "execute_result",
          "data": {
            "text/plain": [
              "array([30, 85, 35, 69, 60, 54, 27, 75, 47])"
            ]
          },
          "metadata": {
            "tags": []
          },
          "execution_count": 43
        }
      ]
    },
    {
      "cell_type": "markdown",
      "metadata": {
        "id": "iH7rXXZLqn6c"
      },
      "source": [
        " *Step 6: **LINEAR REGRESSION:** The objective of a linear regression model is to find a relationship between one or more features(independent variables) and a continuous target variable(dependent variable).*"
      ]
    },
    {
      "cell_type": "code",
      "metadata": {
        "id": "1Vigjqc_qwAM"
      },
      "source": [
        "from sklearn.linear_model import LinearRegression\r\n",
        "LR=LinearRegression()"
      ],
      "execution_count": null,
      "outputs": []
    },
    {
      "cell_type": "code",
      "metadata": {
        "colab": {
          "base_uri": "https://localhost:8080/"
        },
        "id": "pHzfFvGzqzml",
        "outputId": "08e0b88e-c341-473e-ecae-15f11bf47d03"
      },
      "source": [
        "#Training the model using fit()\r\n",
        "LR.fit(x_train,y_train)\r\n"
      ],
      "execution_count": null,
      "outputs": [
        {
          "output_type": "execute_result",
          "data": {
            "text/plain": [
              "LinearRegression(copy_X=True, fit_intercept=True, n_jobs=None, normalize=False)"
            ]
          },
          "metadata": {
            "tags": []
          },
          "execution_count": 49
        }
      ]
    },
    {
      "cell_type": "markdown",
      "metadata": {
        "id": "HH6i2IgYrE7L"
      },
      "source": [
        "Plotting the regression line."
      ]
    },
    {
      "cell_type": "code",
      "metadata": {
        "colab": {
          "base_uri": "https://localhost:8080/",
          "height": 265
        },
        "id": "tn_Xh37xrCC5",
        "outputId": "b0138318-8a2a-43e5-c147-6d093540b045"
      },
      "source": [
        "line = LR.coef_*x+LR.intercept_\r\n",
        "plt.scatter(x,y,color=\"red\")\r\n",
        "plt.plot(x,line)\r\n",
        "plt.show()"
      ],
      "execution_count": null,
      "outputs": [
        {
          "output_type": "display_data",
          "data": {
            "image/png": "[encoded data removed]",
            "text/plain": [
              "<Figure size 432x288 with 1 Axes>"
            ]
          },
          "metadata": {
            "tags": [],
            "needs_background": "light"
          }
        }
      ]
    },
    {
      "cell_type": "markdown",
      "metadata": {
        "id": "xZyma5DYrh3R"
      },
      "source": [
        "*Step 7: Predicting on x_test*"
      ]
    },
    {
      "cell_type": "code",
      "metadata": {
        "id": "6IksTth-rlBm"
      },
      "source": [
        "y_pred_LR=LR.predict(x_test)"
      ],
      "execution_count": null,
      "outputs": []
    },
    {
      "cell_type": "code",
      "metadata": {
        "colab": {
          "base_uri": "https://localhost:8080/"
        },
        "id": "h8g4jeXHrpkR",
        "outputId": "9b545b40-3511-4115-d054-423a57586940"
      },
      "source": [
        "x_test"
      ],
      "execution_count": null,
      "outputs": [
        {
          "output_type": "execute_result",
          "data": {
            "text/plain": [
              "array([[2.5],\n",
              "       [7.7],\n",
              "       [3.8],\n",
              "       [7.4],\n",
              "       [5.5],\n",
              "       [4.8],\n",
              "       [3.2],\n",
              "       [8.5],\n",
              "       [5.1]])"
            ]
          },
          "metadata": {
            "tags": []
          },
          "execution_count": 52
        }
      ]
    },
    {
      "cell_type": "code",
      "metadata": {
        "colab": {
          "base_uri": "https://localhost:8080/"
        },
        "id": "cwO6ZiHGryIo",
        "outputId": "d2be1d38-3868-47e4-b4ae-ce22b9cab184"
      },
      "source": [
        "y_test"
      ],
      "execution_count": null,
      "outputs": [
        {
          "output_type": "execute_result",
          "data": {
            "text/plain": [
              "array([30, 85, 35, 69, 60, 54, 27, 75, 47])"
            ]
          },
          "metadata": {
            "tags": []
          },
          "execution_count": 53
        }
      ]
    },
    {
      "cell_type": "code",
      "metadata": {
        "colab": {
          "base_uri": "https://localhost:8080/"
        },
        "id": "MRhC_TmZr0z3",
        "outputId": "6583bbc5-8ea9-4ec1-c6f8-b05bada9051b"
      },
      "source": [
        "#predicted values over x_test are as follows\r\n",
        "y_pred_LR"
      ],
      "execution_count": null,
      "outputs": [
        {
          "output_type": "execute_result",
          "data": {
            "text/plain": [
              "array([27.35418824, 79.25993656, 40.33062532, 76.26537416, 57.29981227,\n",
              "       50.3125    , 34.34150052, 87.2454363 , 53.3070624 ])"
            ]
          },
          "metadata": {
            "tags": []
          },
          "execution_count": 54
        }
      ]
    },
    {
      "cell_type": "markdown",
      "metadata": {
        "id": "8SLTJrcIsAOK"
      },
      "source": [
        "*Step 8: Looking into the difference between the actual data and predicted data.*"
      ]
    },
    {
      "cell_type": "code",
      "metadata": {
        "id": "yAL5XPkBsHkW"
      },
      "source": [
        "diff_LR=y_test-y_pred_LR"
      ],
      "execution_count": null,
      "outputs": []
    },
    {
      "cell_type": "code",
      "metadata": {
        "colab": {
          "base_uri": "https://localhost:8080/",
          "height": 328
        },
        "id": "2YJnGOKwsLbz",
        "outputId": "005be500-81a9-4024-996a-1925a99752d5"
      },
      "source": [
        "result_df=pd.concat([pd.Series(y_pred_LR),pd.Series(y_test),pd.Series(diff_LR)],axis=1)\r\n",
        "result_df.columns=['Predicted score','Original score','Difference']\r\n",
        "result_df"
      ],
      "execution_count": null,
      "outputs": [
        {
          "output_type": "execute_result",
          "data": {
            "text/html": [
              "<div>\n",
              "<style scoped>\n",
              "    .dataframe tbody tr th:only-of-type {\n",
              "        vertical-align: middle;\n",
              "    }\n",
              "\n",
              "    .dataframe tbody tr th {\n",
              "        vertical-align: top;\n",
              "    }\n",
              "\n",
              "    .dataframe thead th {\n",
              "        text-align: right;\n",
              "    }\n",
              "</style>\n",
              "<table border=\"1\" class=\"dataframe\">\n",
              "  <thead>\n",
              "    <tr style=\"text-align: right;\">\n",
              "      <th></th>\n",
              "      <th>Predicted score</th>\n",
              "      <th>Original score</th>\n",
              "      <th>Difference</th>\n",
              "    </tr>\n",
              "  </thead>\n",
              "  <tbody>\n",
              "    <tr>\n",
              "      <th>0</th>\n",
              "      <td>27.354188</td>\n",
              "      <td>30</td>\n",
              "      <td>2.645812</td>\n",
              "    </tr>\n",
              "    <tr>\n",
              "      <th>1</th>\n",
              "      <td>79.259937</td>\n",
              "      <td>85</td>\n",
              "      <td>5.740063</td>\n",
              "    </tr>\n",
              "    <tr>\n",
              "      <th>2</th>\n",
              "      <td>40.330625</td>\n",
              "      <td>35</td>\n",
              "      <td>-5.330625</td>\n",
              "    </tr>\n",
              "    <tr>\n",
              "      <th>3</th>\n",
              "      <td>76.265374</td>\n",
              "      <td>69</td>\n",
              "      <td>-7.265374</td>\n",
              "    </tr>\n",
              "    <tr>\n",
              "      <th>4</th>\n",
              "      <td>57.299812</td>\n",
              "      <td>60</td>\n",
              "      <td>2.700188</td>\n",
              "    </tr>\n",
              "    <tr>\n",
              "      <th>5</th>\n",
              "      <td>50.312500</td>\n",
              "      <td>54</td>\n",
              "      <td>3.687500</td>\n",
              "    </tr>\n",
              "    <tr>\n",
              "      <th>6</th>\n",
              "      <td>34.341501</td>\n",
              "      <td>27</td>\n",
              "      <td>-7.341501</td>\n",
              "    </tr>\n",
              "    <tr>\n",
              "      <th>7</th>\n",
              "      <td>87.245436</td>\n",
              "      <td>75</td>\n",
              "      <td>-12.245436</td>\n",
              "    </tr>\n",
              "    <tr>\n",
              "      <th>8</th>\n",
              "      <td>53.307062</td>\n",
              "      <td>47</td>\n",
              "      <td>-6.307062</td>\n",
              "    </tr>\n",
              "  </tbody>\n",
              "</table>\n",
              "</div>"
            ],
            "text/plain": [
              "   Predicted score  Original score  Difference\n",
              "0        27.354188              30    2.645812\n",
              "1        79.259937              85    5.740063\n",
              "2        40.330625              35   -5.330625\n",
              "3        76.265374              69   -7.265374\n",
              "4        57.299812              60    2.700188\n",
              "5        50.312500              54    3.687500\n",
              "6        34.341501              27   -7.341501\n",
              "7        87.245436              75  -12.245436\n",
              "8        53.307062              47   -6.307062"
            ]
          },
          "metadata": {
            "tags": []
          },
          "execution_count": 56
        }
      ]
    },
    {
      "cell_type": "code",
      "metadata": {
        "colab": {
          "base_uri": "https://localhost:8080/"
        },
        "id": "OJCNRy9csduI",
        "outputId": "f8a8cb9f-f638-447b-97d3-c2ab84c8959c"
      },
      "source": [
        "#considering own input:\r\n",
        "hours = [[7.5]]\r\n",
        "own_pred = LR.predict(hours)\r\n",
        "print(\"Number of Hours = {}\".format(hours))\r\n",
        "print(\"Predicted Score = {}\".format(own_pred[0]))"
      ],
      "execution_count": null,
      "outputs": [
        {
          "output_type": "stream",
          "text": [
            "Number of Hours = [[7.5]]\n",
            "Predicted Score = 77.26356162610045\n"
          ],
          "name": "stdout"
        }
      ]
    },
    {
      "cell_type": "markdown",
      "metadata": {
        "id": "uAk-fRbfsrbq"
      },
      "source": [
        "Step 9: Finding the mean absolute error."
      ]
    },
    {
      "cell_type": "code",
      "metadata": {
        "colab": {
          "base_uri": "https://localhost:8080/"
        },
        "id": "T2ZNm_Yisy2f",
        "outputId": "7def3ef8-b5b2-496c-fbdd-6bd35ee5f720"
      },
      "source": [
        "from sklearn import metrics\r\n",
        "print('Mean Absolute Error:',\r\n",
        "      metrics.mean_absolute_error(y_test,y_pred_LR))"
      ],
      "execution_count": null,
      "outputs": [
        {
          "output_type": "stream",
          "text": [
            "Mean Absolute Error: 5.918173514011162\n"
          ],
          "name": "stdout"
        }
      ]
    }
  ]
}